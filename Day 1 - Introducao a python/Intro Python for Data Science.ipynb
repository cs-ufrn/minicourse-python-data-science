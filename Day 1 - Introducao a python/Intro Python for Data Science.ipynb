{
 "cells": [
  {
   "cell_type": "markdown",
   "metadata": {},
   "source": [
    "## 1. Programming And Data Science\n",
    "\n",
    "Data science involves processing, analyzing, and visualizing data. While some tools like Microsoft Excel allow us to perform basic data science tasks, they're limited to the functionality built in to the user interface. If you want to work with datasets that aren't structured like a spreadsheet or create entire new data visualizations from scratch, you'll need to become proficient in **programming**. Instead of using a program written by others that can solve a narrow set of tasks, you can create your own programs that can solve your specific problems.\n",
    "\n",
    "Programming involves organizing a collection of instructions into a program for a computer to carry out. To express these instructions, we use a **programming language**. In this track, we focus on a language called Python. **Python** is a general-purpose programming language that is becoming more and more popular for doing **data science**. Companies worldwide are using Python to harvest insights from their data and get a competitive edge.\n",
    "\n",
    "\n",
    "**Python** is a popular choice for working with data because it has good support for:\n",
    "\n",
    "- handling large datasets\n",
    "- working with common mathematical functions\n",
    "- creating powerful data visualizations\n",
    "\n",
    "\n",
    "What you will learn\n",
    "- Python versions\n",
    "- Basic data types\n",
    "- List\n",
    "- Files and Loops\n",
    "- If statements\n",
    "- Dictionaries\n",
    "- Functions and Modules\n",
    "\n",
    "\n",
    "## 2. Python versions\n",
    "\n",
    "There are currently two different supported versions of Python, 2.7 and 3.6. Python 3.x introduced many backwards-incompatible changes to the language, so code written for 2.7 may not work under 3.x and vice versa. For this class all code will use Python 3.6. \n",
    "\n",
    "https://wiki.python.org/moin/Python2orPython3\n",
    "\n",
    "\"Python 2.x is legacy, Python 3.x is the present and future of the language\"\"\n",
    "\n",
    "## 3. Basic data types\n",
    "\n",
    "Like most languages, Python has a number of basic types including integers, floats, booleans, and strings. These data types behave in ways that are familiar from other programming languages.\n",
    "\n",
    "\n"
   ]
  },
  {
   "cell_type": "code",
   "execution_count": null,
   "metadata": {},
   "outputs": [],
   "source": [
    "x = 3\n",
    "print(type(x)) # Prints \"<class 'int'>\"\n",
    "print(x)       # Prints \"3\"\n",
    "print(x + 1)   # Addition; prints \"4\"\n",
    "print(x - 1)   # Subtraction; prints \"2\"\n",
    "print(x * 2)   # Multiplication; prints \"6\"\n",
    "print(x ** 2)  # Exponentiation; prints \"9\"\n",
    "x += 1\n",
    "print(x)       # Prints \"4\"\n",
    "x *= 2\n",
    "print(x)       # Prints \"8\"\n",
    "y = 2.5\n",
    "print(type(y)) # Prints \"<class 'float'>\"\n",
    "print(y, y + 1, y * 2, y ** 2) # Prints \"2.5 3.5 5.0 6.25\""
   ]
  },
  {
   "cell_type": "markdown",
   "metadata": {},
   "source": [
    "Note that unlike many languages, **Python** does not have unary increment **(x++)** or decrement **(x--)** operators. Python also has built-in type for complex numbers; you can find all of the details in the [documentation](https://docs.python.org/3/library/stdtypes.html#numeric-types-int-float-long-complex).\n",
    "\n",
    "**Booleans**: Python implements all of the usual operators for Boolean logic, but uses English words rather than symbols (&&, ||, etc.):"
   ]
  },
  {
   "cell_type": "code",
   "execution_count": null,
   "metadata": {},
   "outputs": [],
   "source": [
    "t = True\n",
    "f = False\n",
    "print(type(t)) # Prints \"<class 'bool'>\"\n",
    "print(t and f) # Logical AND; prints \"False\"\n",
    "print(t or f)  # Logical OR; prints \"True\"\n",
    "print(not t)   # Logical NOT; prints \"False\"\n",
    "print(t != f)  # Logical XOR; prints \"True\" "
   ]
  },
  {
   "cell_type": "markdown",
   "metadata": {},
   "source": [
    "**Strings**: Python has great support for strings:\n"
   ]
  },
  {
   "cell_type": "code",
   "execution_count": null,
   "metadata": {},
   "outputs": [],
   "source": [
    "hello = 'hello'           # String literals can use single quotes\n",
    "world = \"world\"           # or double quotes; it does not matter.\n",
    "print (hello)             # Prints \"hello\"\n",
    "print (len(hello))        # String length; prints \"5\"\n",
    "hw = hello + ' ' + world  # String concatenation\n",
    "print(hw)                 # prints \"hello world\"\n",
    "hw12 = '%s %s %d' % (hello, world, 12)  # sprintf style string formatting\n",
    "print(hw12)  # prints \"hello world 12\""
   ]
  },
  {
   "cell_type": "markdown",
   "metadata": {},
   "source": [
    "String objects have a bunch of useful methods, you can find a list of all string methods in the [documentation](https://docs.python.org/3/library/stdtypes.html#string-methods)."
   ]
  },
  {
   "cell_type": "code",
   "execution_count": null,
   "metadata": {},
   "outputs": [],
   "source": [
    "s = \"hello\"\n",
    "print (s.capitalize())  # Capitalize a string; prints \"Hello\"\n",
    "print (s.upper())       # Convert a string to uppercase; prints \"HELLO\"\n",
    "print (s.rjust(7))      # Right-justify a string, padding with spaces; prints \"  hello\"\n",
    "print (s.center(7))     # Center a string, padding with spaces; prints \" hello \"\n",
    "print (s.replace('l', '(ell)'))  # Replace all instances of one substring with another;\n",
    "                                 # prints \"he(ell)(ell)o\"\n",
    "print ('  world '.strip())       # Strip leading and trailing whitespace; prints \"world\""
   ]
  },
  {
   "cell_type": "markdown",
   "metadata": {},
   "source": [
    "## 4. Using a list to store multiple values\n",
    "\n",
    "So far, we've been storing individual values in variables. Often in data science, we're working with thousands of data points that are grouped together in a certain way and have an order to them. We need a container that can hold multiple values that we can use to perform operations on. We can use a **list**, which is an object that represents a sequence of values. For example, we can represent the cities in our dataset as a list as a sequence of strings (<span style=\"background-color: #F9EBEA; color:##C0392B\">\"Natal\"</span>, <span style=\"background-color: #F9EBEA; color:##C0392B\">\"São Paulo\"</span>, and so on).\n",
    "\n",
    "A list is the Python equivalent of an array, but is resizeable and can contain elements of different types. You can find all about list in [documentation](https://docs.python.org/3/tutorial/datastructures.html#more-on-lists)."
   ]
  },
  {
   "cell_type": "code",
   "execution_count": null,
   "metadata": {},
   "outputs": [],
   "source": [
    "# Create the areas list\n",
    "areas = [\"hallway\", 11.25, \"kitchen\", 18.0, \"living room\", 20.0, \"bedroom\", 10.75, \"bathroom\", 9.50]\n",
    "\n",
    "# Print out areas\n",
    "print(areas)\n",
    "\n",
    "# Print out the type of areas\n",
    "print(type(areas))\n",
    "\n",
    "# Print out second element from areas\n",
    "print(areas[1])\n",
    "\n",
    "# Print out last element from areas\n",
    "print(areas[-1])\n",
    "\n",
    "# Print out the area of the living room\n",
    "print(areas[-5])\n",
    "\n",
    "# Add two new elements to the end of the list\n",
    "areas.append(\"laundry\")\n",
    "areas.append(8.75)\n",
    "\n",
    "# Print out the new list\n",
    "print(areas)\n",
    "\n",
    "# Lists have a feature called slicing that allows you to return all of the values between\n",
    "# a starting index and an ending index. When you slice a list, you return a new list containing\n",
    "# just the values you're interested in.\n",
    "\n",
    "# Remove the first two elements of list\n",
    "del(areas[0:2])\n",
    "print(areas)\n",
    "\n",
    "# Remove the last two elements of list\n",
    "del(areas[-1:])\n",
    "print(areas)"
   ]
  },
  {
   "cell_type": "markdown",
   "metadata": {},
   "source": [
    "## 5. Files and Loops\n",
    "\n",
    "We'll learn how to work with files and use loops to iterate through lists. We'll be working with crime rate data for 73 cities in the United States. Datasets are often represented in files that you can download and manipulate. Before we get started, we'll first need to learn how to work with files in Python.\n",
    "\n",
    "To open a file in Python, we use the <span style=\"background-color: #F9EBEA; color:##C0392B\">open()</span> function. This function accepts two different arguments (inputs) in the parentheses, always in the following order:\n",
    "\n",
    "- the name of the file (as a string)\n",
    "- the mode of working with the file (as a string)\n",
    "\n",
    "\n",
    "We'll learn about the various modes in a later mission. For now, we'll just use <span style=\"background-color: #F9EBEA; color:##C0392B\">\"r\"</span>, the mode for reading in files.\n",
    "\n",
    "When entering multiple inputs, separate them with commas (<span style=\"background-color: #F9EBEA; color:##C0392B\">,</span>). For example, to open a file named <span style=\"background-color: #F9EBEA; color:##C0392B\">story.txt</span> in read mode, we write the following:\n",
    "\n",
    ">```python\n",
    "open(\"story.txt\", \"r\")\n",
    "```\n",
    "\n",
    "The <span style=\"background-color: #F9EBEA; color:##C0392B\">open()</span> function returns a *File* object. This object stores the information we passed in, and allows us to call methods specific to the File class. We can assign the File object to a variable so we can refer to it later:\n",
    "\n",
    ">```python\n",
    "a = open(\"story.txt\", \"r\")\n",
    "```\n",
    "\n",
    "Note that the File object, <span style=\"background-color: #F9EBEA; color:##C0392B\">a</span>, won't contain the actual contents of the file. It's instead an object that acts as an interface to the file and contains methods for reading in and modifying the file's contents (which we'll cover in the next screen).\n",
    "\n",
    "\n"
   ]
  },
  {
   "cell_type": "code",
   "execution_count": null,
   "metadata": {},
   "outputs": [],
   "source": [
    "#open the file\n",
    "f = open(\"crime_rates.csv\", \"r\")\n",
    "\n",
    "#read the file\n",
    "data = f.read()\n",
    "\n",
    "#print data\n",
    "print(type(data))\n",
    "print(data)"
   ]
  },
  {
   "cell_type": "code",
   "execution_count": null,
   "metadata": {},
   "outputs": [],
   "source": [
    "#split the crime_rates.csv based on '\\n' filter\n",
    "rows = data.split('\\n')\n",
    "\n",
    "#print the first five rows\n",
    "print(rows[0:5])"
   ]
  },
  {
   "cell_type": "code",
   "execution_count": null,
   "metadata": {},
   "outputs": [],
   "source": [
    "#create an empty list\n",
    "int_crime_rates=[]\n",
    "\n",
    "#print the rate of crimes for each city using a list(int)\n",
    "for i in rows:\n",
    "    int_crime_rates.append(int(i.split(\",\")[1]))"
   ]
  },
  {
   "cell_type": "code",
   "execution_count": null,
   "metadata": {},
   "outputs": [],
   "source": [
    "type(int_crime_rates[0])"
   ]
  },
  {
   "cell_type": "markdown",
   "metadata": {},
   "source": [
    "## 6. Booleans\n",
    "\n",
    "We'll learn how to express conditional logic. We can use **conditional logic** to add criteria to the code we write. Some examples of operations that use criteria include:\n",
    "\n",
    "- Finding all the integers in a list that are greater than <span style=\"background-color: #F9EBEA; color:##C0392B\">\"5\"</span>.\n",
    "- Identifying which elements in a list are strings, and printing only those values.\n",
    "\n",
    "We can break down both of these examples into logic we can code:\n",
    "\n",
    "- For each integer in a list, if the integer is greater than <span style=\"background-color: #F9EBEA; color:##C0392B\">\"5\"</span>, add to the list <span style=\"background-color: #F9EBEA; color:##C0392B\">greater_than_five</span>.\n",
    "- For each element in a list, if the value has a string data type, use the <span style=\"background-color: #F9EBEA; color:##C0392B\">print()</span> function to display it; if it's not a string, ignore it.\n",
    "\n",
    "Python has a class called **Boolean** that helps express conditional logic. There are only two Boolean values: <span style=\"background-color: #F9EBEA; color:##C0392B\">True</span> and <span style=\"background-color: #F9EBEA; color:##C0392B\">False</span>. Because they're words, Boolean values may look like strings, but they're an entirely separate class. For example, string operations like concatenation won't work with Booleans.\n",
    "\n",
    "The following code example assigns <span style=\"background-color: #F9EBEA; color:##C0392B\">True</span> to <span style=\"background-color: #F9EBEA; color:##C0392B\">t</span> and <span style=\"background-color: #F9EBEA; color:##C0392B\">False</span> to <span style=\"background-color: #F9EBEA; color:##C0392B\">f</span>:\n",
    "\n",
    ">```python\n",
    "t = True\n",
    "f = False\n",
    "```\n",
    "\n",
    "If we display the data type for either <span style=\"background-color: #F9EBEA; color:##C0392B\">t</span> or <span style=\"background-color: #F9EBEA; color:##C0392B\">f</span>, we'll see class <span style=\"background-color: #F9EBEA; color:##C0392B\">'bool'</span>, shorthand for Boolean.\n",
    "\n",
    "\n",
    "### 6.1 Boolean Operators\n",
    "\n",
    "Python has comparison operators that allow us to compare variables:\n",
    "\n",
    "<span style=\"background-color: #F9EBEA; color:##C0392B\">==</span> returns True if both variables are equivalent, and False if they're different\n",
    "\n",
    "<span style=\"background-color: #F9EBEA; color:##C0392B\">!=</span> returns True if both variables are different, and False if they're equivalent\n",
    "\n",
    "<span style=\"background-color: #F9EBEA; color:##C0392B\">></span> returns True if the first variable is greater than the second variable, and False otherwise\n",
    "\n",
    "<span style=\"background-color: #F9EBEA; color:##C0392B\"><</span> returns True if the first variable is less than the second variable, and False otherwise\n",
    "\n",
    "<span style=\"background-color: #F9EBEA; color:##C0392B\">>=</span> returns True if the first variable is greater than or equal to the second variable, and False otherwise\n",
    "\n",
    "<span style=\"background-color: #F9EBEA; color:##C0392B\"><=</span> returns True if the first variable is less than or equal to the second variable, and False otherwise"
   ]
  },
  {
   "cell_type": "code",
   "execution_count": null,
   "metadata": {},
   "outputs": [],
   "source": [
    "print(8 == 8) # True\n",
    "print(8 != 8) # False\n",
    "print(8 == 10) # False\n",
    "print(8 != 10) # True"
   ]
  },
  {
   "cell_type": "code",
   "execution_count": null,
   "metadata": {},
   "outputs": [],
   "source": [
    "rates = [10, 15, 20]\n",
    "print(rates[0] > rates[1]) # False\n",
    "print(rates[0] >= rates[0]) # True"
   ]
  },
  {
   "cell_type": "markdown",
   "metadata": {},
   "source": [
    "## 7. If Statements\n",
    "\n",
    "Now that we know how to work with Boolean values, let's dive more into how we use Booleans to express conditional logic. To complement Booleans, Python contains the if operator. We can use this operator to write a statement that tests whether certain conditions exist. Our if statement will evaluate to either <span style=\"background-color: #F9EBEA; color:##C0392B\">True</span> or <span style=\"background-color: #F9EBEA; color:##C0392B\">False</span>, and only run the specified code when <span style=\"background-color: #F9EBEA; color:##C0392B\">True</span>.\n",
    "\n",
    ">```python\n",
    "sample_rate = 749\n",
    "greater = (sample_rate > 5)\n",
    "if greater:                    #This is the conditional statement.\n",
    "    print(sample_rate)\n",
    "```\n",
    "\n",
    "We can nest if statements to specify multiple criteria. \n",
    "\n",
    ">```python\n",
    "value = 1500\n",
    "if value > 500:\n",
    "    if value > 1000:\n",
    "        print(\"This number is HUGE!\")\n",
    "```\n",
    "\n",
    "We can also nest if statements within for loops, and vice versa. For example, we can search a list for the existence of a specific value by combining a for loop with an if statement. The if statement determines whether the current element is equivalent to the value we're interested in:\n",
    "\n",
    ">```python\n",
    "found = False\n",
    "for city in cities:\n",
    "    if city == 'João Pessoa':\n",
    "        found = True\n",
    "```"
   ]
  },
  {
   "cell_type": "markdown",
   "metadata": {},
   "source": [
    "<br>\n",
    "<div class=\"alert alert-info\">\n",
    "<b>Exercise Start.</b>\n",
    "</div>\n",
    "\n",
    "**Description**: \n",
    "\n",
    "For this challenge, you'll be working with the data set behind this [FiveThirtyEight](http://fivethirtyeight.com/features/there-are-922-unisex-names-in-america-is-yours-one-of-them/) article on common unisex (gender-neutral) names in the United States. You'll start by reading in the file and iteratively converting the data to more useful representations. At the end of this challenge, you'll filter the data so that it only includes the names that at least 1,000 people share.\n",
    "\n",
    "The staff at [FiveThirtyEight](http://fivethirtyeight.com/) compiled this data set from information at the [Social Security Adminstration's website](https://www.ssa.gov/oact/babynames/limits.html). You'll work with a shortened version of the full data set to complete this challenge.\n",
    "\n",
    "Here's a preview of the shortened data set, which is in a CSV file named [unisex_names_table.csv](https://github.com/fivethirtyeight/data/blob/master/unisex-names/unisex_names_table.csv) (tip: raw,save as):\n",
    "\n",
    ">1) Use the <span style=\"background-color: #F9EBEA; color:##C0392B\">open()</span> function with the following parameters to return a File object: \n",
    "\n",
    ">>+ <span style=\"background-color: #F9EBEA; color:##C0392B\">unisex_names_table.csv</span> for the file name.\n",
    "+ <span style=\"background-color: #F9EBEA; color:##C0392B\">r</span> for read mode\n",
    "+ Then, use the <span style=\"background-color: #F9EBEA; color:##C0392B\">read()</span> method of the File object to read the file into a string. Assign that string to a variable named <span style=\"background-color: #F9EBEA; color:##C0392B\">names</span>.\n",
    ">```python\n",
    "data = open(\"data/unisex_names_table.csv\",\"r\")\n",
    "names = data.read()\n",
    "```"
   ]
  },
  {
   "cell_type": "code",
   "execution_count": null,
   "metadata": {},
   "outputs": [],
   "source": [
    "data = open(\"data/unisex_names_table.csv\",\"r\")\n",
    "names = data.read()"
   ]
  },
  {
   "cell_type": "code",
   "execution_count": null,
   "metadata": {},
   "outputs": [],
   "source": [
    "print(names)"
   ]
  },
  {
   "cell_type": "markdown",
   "metadata": {},
   "source": [
    ">2) Convert the string to a list\n",
    "\n",
    ">>+ Use the <span style=\"background-color: #F9EBEA; color:##C0392B\">split()</span> method that *strings* have to split on the new-line delimiter (<span style=\"background-color: #F9EBEA; color:##C0392B\">\"\\n\"</span>), and assign the resulting list to <span style=\"background-color: #F9EBEA; color:##C0392B\">names_list</span>.\n",
    "+ Select the first five elements in <span style=\"background-color: #F9EBEA; color:##C0392B\">names_list</span>, and assign them to <span style=\"background-color: #F9EBEA; color:##C0392B\">first_five</span>.\n",
    "+ Display <span style=\"background-color: #F9EBEA; color:##C0392B\">first_five</span> using the <span style=\"background-color: #F9EBEA; color:##C0392B\">print()</span> function.\n",
    ">```python\n",
    "names_list = names.split(\"\\n\")\n",
    "#skip the header and tail\n",
    "names_list = names_list[1:-1]\n",
    "first_five = names_list[0:5]\n",
    "print(first_five)\n",
    "```\n",
    "\n",
    ">3) Convert the list of strings to a list of lists. Split each element in <span style=\"background-color: #F9EBEA; color:##C0392B\">names_list</span> on the comma delimiter <span style=\"background-color: #F9EBEA; color:##C0392B\">(,)</span> and append the resulting list to <span style=\"background-color: #F9EBEA; color:##C0392B\">nested_list</span>. To accomplish this:\n",
    "\n",
    ">>+ Create an empty list and assign it to <span style=\"background-color: #F9EBEA; color:##C0392B\">nested_list</span>.\n",
    "+ Write a for loop that iterates over <span style=\"background-color: #F9EBEA; color:##C0392B\">names_list</span>.\n",
    "+ Within the loop body, run the <span style=\"background-color: #F9EBEA; color:##C0392B\">split()</span> method on each element to return a list (assign that list to <span style=\"background-color: #F9EBEA; color:##C0392B\">comma_list</span>).\n",
    "+ Within the loop body, run the <span style=\"background-color: #F9EBEA; color:##C0392B\">append()</span> method to add each list (<span style=\"background-color: #F9EBEA; color:##C0392B\">comma_list</span>) to <span style=\"background-color: #F9EBEA; color:##C0392B\">nested_list</span>.\n",
    "+ Use the <span style=\"background-color: #F9EBEA; color:##C0392B\">print()</span> function to display the first five elements in <span style=\"background-color: #F9EBEA; color:##C0392B\">nested_list</span>\n",
    ">```python\n",
    "nested_list = []\n",
    "for i in names_list:\n",
    "    comma_list = i.split(',')\n",
    "    nested_list.append(comma_list)\n",
    "```\n",
    "\n",
    ">4) Create a new list of strings called <span style=\"background-color: #F9EBEA; color:##C0392B\">thousand_or_greater</span> that only contains the names shared by 1,000 people or more. To accomplish this:\n",
    "\n",
    ">>+ Create an empty list and assign it to <span style=\"background-color: #F9EBEA; color:##C0392B\">thousand_or_greater</span>.\n",
    "+ Write a for loop that iterates over <span style=\"background-color: #F9EBEA; color:##C0392B\">numerical_list</span>.\n",
    ">```python\n",
    "numerical_list = []\n",
    "for i in nested_list:\n",
    "    a = i[1]\n",
    "    b = float(i[2])\n",
    "    numerical_list.append([a,b])\n",
    "```\n",
    "+ In the loop body, use an if statement to determine if the value at index <span style=\"background-color: #F9EBEA; color:##C0392B\">2</span> for that element (which is a list) is greater than or equal to <span style=\"background-color: #F9EBEA; color:##C0392B\">1000</span>.\n",
    "+ If the value is greater than or equal to <span style=\"background-color: #F9EBEA; color:##C0392B\">1000</span>, use the <span style=\"background-color: #F9EBEA; color:##C0392B\">append()</span> method to add its name to <span style=\"background-color: #F9EBEA; color:##C0392B\">thousand_or_greater</span>.\n",
    "+ Finally, display the first <span style=\"background-color: #F9EBEA; color:##C0392B\">10</span> elements in <span style=\"background-color: #F9EBEA; color:##C0392B\">thousand_or_greater</span>."
   ]
  },
  {
   "cell_type": "markdown",
   "metadata": {},
   "source": [
    "## 8. Dictionaries\n",
    "\n",
    "A dictionary is like a list in that it has indexes, but the indexes aren't necessarily sequential numbers. We can create our own indexes with values of any data type, including strings.\n",
    "\n",
    "A dictionary stores (key, value) pairs, similar to a Map in Java or an object in Javascript."
   ]
  },
  {
   "cell_type": "code",
   "execution_count": null,
   "metadata": {},
   "outputs": [],
   "source": [
    "# Definition of countries and capital\n",
    "countries = ['spain', 'france', 'germany', 'norway']\n",
    "capitals = ['madrid', 'paris', 'berlin', 'oslo']\n",
    "\n",
    "# Get index of 'germany': ind_ger\n",
    "ind_ger = countries.index('germany')\n",
    "\n",
    "# Use ind_ger to print out capital of Germany\n",
    "print(capitals[ind_ger])"
   ]
  },
  {
   "cell_type": "code",
   "execution_count": null,
   "metadata": {},
   "outputs": [],
   "source": [
    "# From string in countries and capitals, create dictionary europe\n",
    "europe = {'spain':'madrid','france':'paris','germany':'berlin','norway':'oslo'}\n",
    "\n",
    "# Print europe\n",
    "print(europe)\n",
    "\n",
    "# Print out the keys in europe\n",
    "print(europe.keys())\n",
    "\n",
    "# Print out value that belongs to key 'norway'\n",
    "print(europe['norway'])"
   ]
  },
  {
   "cell_type": "code",
   "execution_count": null,
   "metadata": {},
   "outputs": [],
   "source": [
    "# Add italy to europe\n",
    "europe['italy'] = 'rome'\n",
    "\n",
    "# Print out italy in europe\n",
    "print('italy' in europe)\n",
    "\n",
    "# Add poland to europe\n",
    "europe['poland'] = 'warsaw'\n",
    "\n",
    "print(europe)\n",
    "\n",
    "del(europe['france'])\n",
    "\n",
    "# Print europe\n",
    "print(europe)"
   ]
  },
  {
   "cell_type": "code",
   "execution_count": null,
   "metadata": {},
   "outputs": [],
   "source": [
    "# Dictionary of dictionaries\n",
    "europe = { 'spain': { 'capital':'madrid', 'population':46.77 },\n",
    "           'france': { 'capital':'paris', 'population':66.03 },\n",
    "           'germany': { 'capital':'berlin', 'population':80.62 },\n",
    "           'norway': { 'capital':'oslo', 'population':5.084 } }\n",
    "\n",
    "\n",
    "# Print out the capital of France\n",
    "print(europe['france']['capital'])\n",
    "\n",
    "# Create sub-dictionary data\n",
    "data = {'capital':'rome', 'population':59.83}\n",
    "\n",
    "# Add data to europe under key 'italy'\n",
    "europe['italy'] = data\n",
    "\n",
    "# Print europe\n",
    "print(europe)"
   ]
  },
  {
   "cell_type": "markdown",
   "metadata": {},
   "source": [
    "### 8.1 Loop over a dictionary\n",
    "\n",
    "In Python 3, you need the **items()** method to loop over a dictionary:\n",
    "\n",
    "\n",
    "```python\n",
    "  world = { \"afghanistan\":30.55, \n",
    "             \"albania\":2.77,\n",
    "             \"algeria\":39.21 }\n",
    "  for key, value in world.items() :\n",
    "      print(key + \" -- \" + str(value))\n",
    "```"
   ]
  },
  {
   "cell_type": "code",
   "execution_count": null,
   "metadata": {},
   "outputs": [],
   "source": [
    "# Definition of dictionary\n",
    "europe = {'spain':'madrid', 'france':'paris', 'germany':'bonn', \n",
    "          'norway':'oslo', 'italy':'rome', 'poland':'warsaw', 'australia':'vienna' }\n",
    "          \n",
    "# Iterate over europe\n",
    "for key, value in europe.items():\n",
    "    print(\"the capital of \" + key + \" is \" + value)"
   ]
  },
  {
   "cell_type": "markdown",
   "metadata": {},
   "source": [
    "<br>\n",
    "<div class=\"alert alert-info\">\n",
    "<b>Exercise Start.</b>\n",
    "</div>\n",
    "\n",
    "**Description**: \n",
    "\n",
    "In this mission, we'll look at daily weather data for Los Angeles (L.A.) during 2014. Here's a look at the beginning of <span style=\"background-color: #F9EBEA; color:##C0392B\">la_weather.csv</span>, the data set we'll be working:\n",
    "\n",
    ">```csv\n",
    "Day,Type of Weather\n",
    "1,Sunny\n",
    "2,Sunny\n",
    "3,Sunny\n",
    "4,Sunny\n",
    "5,Sunny\n",
    "6,Rain\n",
    "7,Sunny\n",
    "8,Sunny\n",
    "9,Fog\n",
    "10,Rain\n",
    "```\n",
    "\n",
    "The first row in our data is the header row, which contains labels for the values beneath them. As the header row indicates, each row has two values:\n",
    "\n",
    "- <span style=\"background-color: #F9EBEA; color:##C0392B\">Day</span> - A number from <span style=\"background-color: #F9EBEA; color:##C0392B\">1</span> to <span style=\"background-color: #F9EBEA; color:##C0392B\">365</span> indicating the day of the year. January 1st is 1, and December 31st is <span style=\"background-color: #F9EBEA; color:##C0392B\">365</span>.\n",
    "- <span style=\"background-color: #F9EBEA; color:##C0392B\">Type of Weather</span> - The type of weather experienced on that day. The values that may appear here include <span style=\"background-color: #F9EBEA; color:##C0392B\">Rain</span>, <span style=\"background-color: #F9EBEA; color:##C0392B\">Sunny</span>, <span style=\"background-color: #F9EBEA; color:##C0392B\">Fog</span>, <span style=\"background-color: #F9EBEA; color:##C0392B\">Fog-Rain</span>, or <span style=\"background-color: #F9EBEA; color:##C0392B\">Thunderstorm</span>.\n",
    "\n",
    ">```python\n",
    "weather_data = []\n",
    "f = open(\"la_weather.csv\", 'r')\n",
    "data = f.read()\n",
    "rows = data.split('\\n')\n",
    "for row in rows:\n",
    "    split_row = row.split(\",\")\n",
    "    weather_data.append(split_row[1])\n",
    "weather_data = weather_data[1:]\n",
    "```\n",
    "\n",
    "**Instructions**: \n",
    "\n",
    "1. Count how many times each type of weather occurs in the weather list, and store the results in a new dictionary called - <span style=\"background-color: #F9EBEA; color:##C0392B\">weather_counts</span>.\n",
    "\n",
    ">```python\n",
    "weather_counts = {}\n",
    "for item in weather_data:\n",
    "    if item in weather_counts:\n",
    "    ...\n",
    "    else:\n",
    "    ...\n",
    "```"
   ]
  },
  {
   "cell_type": "markdown",
   "metadata": {},
   "source": [
    "## 9. Functions\n",
    "\n",
    "To leverage the code that brilliant Python developers have written, you'll learn about using functions, methods and packages. This will help you to reduce the amount of code you need to solve challenging problems!\n"
   ]
  },
  {
   "cell_type": "code",
   "execution_count": null,
   "metadata": {},
   "outputs": [],
   "source": [
    "# Maybe you already know the name of a Python function, but you still have to figure out how to use it. \n",
    "# Ironically, you have to ask for information about a function with another function: help(). \n",
    "# In IPython specifically, you can also use ? before the function name.\n",
    "# To get help on the max() function, for example, you can use one of these calls:\n",
    "\n",
    "?max #or # help(max)"
   ]
  },
  {
   "cell_type": "code",
   "execution_count": null,
   "metadata": {},
   "outputs": [],
   "source": [
    "# Create list areas\n",
    "areas = [11.25, 18.0, 20.0, 10.75, 9.50]\n",
    "\n",
    "# Print out the index of the element 20.0\n",
    "print(areas.index(20.0))\n",
    "\n",
    "# Print out how often 14.5 appears in areas\n",
    "print(areas.count(14.5))\n",
    "\n",
    "# Reverse the orders of the elements in areas\n",
    "areas.reverse()\n",
    "\n",
    "# Print out areas\n",
    "print(areas)"
   ]
  },
  {
   "cell_type": "code",
   "execution_count": null,
   "metadata": {},
   "outputs": [],
   "source": [
    "# Python functions are defined using the \"def\" keyword. For example:\n",
    "\n",
    "def sign(x):\n",
    "    if x > 0:\n",
    "        return 'positive'\n",
    "    elif x < 0:\n",
    "        return 'negative'\n",
    "    else:\n",
    "        return 'zero'\n",
    "\n",
    "for x in [-1, 0, 1]:\n",
    "    print(sign(x))\n",
    "# Prints \"negative\", \"zero\", \"positive\""
   ]
  },
  {
   "cell_type": "code",
   "execution_count": null,
   "metadata": {
    "scrolled": true
   },
   "outputs": [],
   "source": [
    "# We will often define functions to take optional keyword arguments, like this:\n",
    "\n",
    "def hello(name, loud=False):\n",
    "    if loud:\n",
    "        print('HELLO, %s!' % name.upper())\n",
    "    else:\n",
    "        print('Hello, %s' % name)\n",
    "\n",
    "hello('Ivanovitch') # Prints \"Hello, Ivanovitch\"\n",
    "hello('Silva', loud=True)  # Prints \"HELLO, SILVA!\"\n"
   ]
  },
  {
   "cell_type": "markdown",
   "metadata": {},
   "source": [
    "<br>\n",
    "<div class=\"alert alert-info\">\n",
    "<b>Exercise Start.</b>\n",
    "</div>\n",
    "\n",
    "**Description**: \n",
    "\n",
    "Implement the previous exercise as a function. The function must pass as parameter a list of weather data and return a dictionary having how many times each type of weather occurs."
   ]
  },
  {
   "cell_type": "markdown",
   "metadata": {},
   "source": [
    "## 10. Modules\n",
    "\n",
    "In the previous sections, we explored the basics of programming in the <span style=\"background-color: #F9EBEA; color:##C0392B\">Python</span> language. In that sections, we only worked with the functions and objects that are available by default. Most of the useful functions and objects live in separate modules that we need to specifically import into the environment to use. In addition, the <span style=\"background-color: #F9EBEA; color:##C0392B\">Python</span> ecosystem has a wealth of other modules that have been developed by others and are available for free. In this mission, we'll learn how to work with modules and explore the problems some specific modules help us solve.\n",
    "\n",
    "A <span style=\"background-color: #F9EBEA; color:##C0392B\">module</span> is a collection of functions and variables that have been bundled together in a single file. <span style=\"background-color: #F9EBEA; color:##C0392B\">module</span> help us:\n",
    "\n",
    "- Organize our code by separating related functions and objects into their own <span style=\"background-color: #F9EBEA; color:##C0392B\">module</span>.\n",
    "- Gain new functionality by using code written by others without spending a large amount of time diving into how exactly it's implemented.\n",
    "\n",
    "\n",
    "<span style=\"background-color: #F9EBEA; color:##C0392B\">Module</span> are usually organized around a theme. We'll start by working with the <span style=\"background-color: #F9EBEA; color:##C0392B\">math</span> module, which contains many useful mathematical operations to make analyzing data easier. Later, we'll learn about the <span style=\"background-color: #F9EBEA; color:##C0392B\">csv</span> module, which makes working with CSV files easier.\n",
    "\n",
    "To access a module, we import it using Python's <span style=\"background-color: #F9EBEA; color:##C0392B\">import</span> statement. If we had a module named <span style=\"background-color: #F9EBEA; color:##C0392B\">my_module</span> that we wanted to use, we'd import it using the following code:\n",
    "\n",
    ">```python\n",
    "import my_module\n",
    "```\n",
    "\n",
    "By importing <span style=\"background-color: #F9EBEA; color:##C0392B\">my_module</span>, we're indicating that we want to use some of the functions or variables from a pre-existing file called <span style=\"background-color: #F9EBEA; color:##C0392B\">my_module.py</span>. (The Python interpreter already knows where to look for module files on your machine.) Note that the name of the module is the same as the name of the Python file, but without the extension. Once we import a module, we can access its functions and variables using **dot notation**.\n",
    "\n",
    "\n",
    "\n"
   ]
  },
  {
   "cell_type": "code",
   "execution_count": null,
   "metadata": {},
   "outputs": [],
   "source": [
    "#Import the math module.\n",
    "import math\n",
    "\n",
    "#Use the sqrt() function from the math module to compute the square root of 99. Assign the result to root.\n",
    "root = math.sqrt(99)\n",
    "\n",
    "#Use the floor() function within the math module to assign the floor of 89.9 to flr.\n",
    "flr = math.floor(89.9)\n",
    "\n",
    "print(flr)"
   ]
  },
  {
   "cell_type": "markdown",
   "metadata": {},
   "source": [
    "### 10.1 Importing using alias\n",
    "\n",
    "In the last step, we learned that we can import an entire module using the  <span style=\"background-color: #F9EBEA; color:##C0392B\">import</span> statement. When we import a module this way, we add all of the objects and functions within that module to the global **namespace**. A namespace is a dictionary that contains all of the names we can refer to in our code. Before running our code, the Python interpreter adds all of the objects and functions that are available by default (<span style=\"background-color: #F9EBEA; color:##C0392B\">print()</span>,  <span style=\"background-color: #F9EBEA; color:##C0392B\">list()</span>, etc.) to the global namespace. When we create variables or define our own functions, these are also added to the same namespace.\n",
    "\n",
    "When we import an entire module, we're adding everything within that module into the global namespace, prefixed by the module name.\n",
    "\n",
    "Some modules have <span style=\"background-color: #F9EBEA; color:##C0392B\">long names</span>, however, and this means that we need to use the full module name each time we want to use any of the objects within that module. Instead, we can assign an alias when we import the module:\n",
    "\n",
    "\n",
    ">```python\n",
    "import my_module as m\n",
    "```\n",
    "\n",
    "Now, we can access all of the objects within <span style=\"background-color: #F9EBEA; color:##C0392B\">my_module</span> using the prefix m:\n",
    "\n",
    ">```python\n",
    "m.function1()\n",
    "m.function2()\n",
    "```"
   ]
  },
  {
   "cell_type": "code",
   "execution_count": null,
   "metadata": {},
   "outputs": [],
   "source": [
    "#Import the math module as m\n",
    "import math as m\n",
    "\n",
    "#Use the sqrt() function from the math module to compute the square root of 33. Assign the result to root.\n",
    "root = m.sqrt(33)\n",
    "\n",
    "print(root)"
   ]
  },
  {
   "cell_type": "markdown",
   "metadata": {},
   "source": [
    "### 10.2 Importing A Specific Object\n",
    "\n",
    "If a module contains hundreds of functions and we only need a few, specific functions, we can import just the ones we need:\n",
    "\n",
    "\n",
    ">```python\n",
    "from math import function1\n",
    "from math import function1, function2\n",
    "```\n",
    "\n",
    "The downside with this approach is that when we import by cherry picking, the objects are added to the top level namespace and they aren't prefixed.\n",
    "\n",
    "If we import <span style=\"background-color: #F9EBEA; color:##C0392B\">function1()</span> from <span style=\"background-color: #F9EBEA; color:##C0392B\">my_module</span> and then define our own <span style=\"background-color: #F9EBEA; color:##C0392B\">function1()</span>, then the reference to the original <span style=\"background-color: #F9EBEA; color:##C0392B\">function1()</span> we imported will get overrwriten in the namespace.\n",
    "\n",
    "Lastly, we can import all of the objects (this includes both objects and functions) from a module into the global namespace using the <span style=\"background-color: #F9EBEA; color:##C0392B\">*</span> symbol:\n",
    "\n",
    "\n",
    ">```python\n",
    "from my_module import *\n",
    "```\n",
    "\n",
    "This is generally considered not good practice, because your namespace becomes polluted with all of these named references to objects you may not be using. In addition, if you're working with multiple modules, you run into the danger of overwriting some of the names in the namespace."
   ]
  },
  {
   "cell_type": "code",
   "execution_count": null,
   "metadata": {},
   "outputs": [],
   "source": [
    "#Import all of the functions from math.\n",
    "from math import *\n",
    "\n",
    "#Use the sqrt() function from the math module to compute the square root of 1001. Assign the result to root.\n",
    "root = sqrt(1001)\n",
    "\n",
    "print(root)"
   ]
  },
  {
   "cell_type": "markdown",
   "metadata": {},
   "source": [
    "### 10.3 The CSV Module\n",
    "\n",
    "In previous missions, we learned how to work with CSV files by:\n",
    "\n",
    "1. Opening a file\n",
    "2. Reading the contents of that file into a string\n",
    "3. Splitting the string on the newline character\n",
    "4. Splitting each line on the comma character\n",
    "\n",
    "We can work with CSV files more easily through the <span style=\"background-color: #F9EBEA; color:##C0392B\">csv</span> module. This module has a <span style=\"background-color: #F9EBEA; color:##C0392B\">reader</span> function that takes a file object as its argument, and returns an object that represents our data. We'll cover objects in more depth in the next mission, but for now, we'll simply convert this object to a list and use that result.\n",
    "\n",
    "To read data from a file called <span style=\"background-color: #F9EBEA; color:##C0392B\">\"my_data.csv\"</span>, we first import the <span style=\"background-color: #F9EBEA; color:##C0392B\">csv</span> module:\n",
    "\n",
    ">```python\n",
    "import csv\n",
    "```\n",
    "\n",
    "Next, we open the file:\n",
    "\n",
    "\n",
    ">```python\n",
    "f = open(\"my_data.csv\")\n",
    "```\n",
    "\n",
    "Then, we call the module's  <span style=\"background-color: #F9EBEA; color:##C0392B\">reader</span> function:\n",
    "\n",
    ">```python\n",
    "csvreader = csv.reader(f)\n",
    "```\n",
    "\n",
    "Finally, we convert the result to a list:\n",
    "\n",
    ">```python\n",
    "my_data = list(csvreader)\n",
    "```\n",
    "\n",
    "Each row in our data set represents a game. The first column is for the year it took place, and the second is for the week of the season (out of 17 total weeks). The third column records the winning team, and the fourth records the losing team.\n"
   ]
  },
  {
   "cell_type": "markdown",
   "metadata": {},
   "source": [
    "<br>\n",
    "<div class=\"alert alert-info\">\n",
    "<b>Exercise Start.</b>\n",
    "</div>\n",
    "\n",
    "**Description**: \n",
    "\n",
    "1. Read all of the data from <span style=\"background-color: #F9EBEA; color:##C0392B\">\"nfl.csv\"</span> in directory <span style=\"background-color: #F9EBEA; color:##C0392B\">\"data\"</span>  into a list variable named <span style=\"background-color: #F9EBEA; color:##C0392B\">nfl</span> using the <span style=\"background-color: #F9EBEA; color:##C0392B\">csv</span> module.\n",
    "2. Counts how many games the \"New England Patriots\" won from 2009-2013.\n",
    "3. Write a function called <span style=\"background-color: #F9EBEA; color:##C0392B\">nfl_wins</span> that takes a team name as input. The function should return the number of games the team won in the period covered by the data set."
   ]
  },
  {
   "cell_type": "code",
   "execution_count": null,
   "metadata": {},
   "outputs": [],
   "source": []
  }
 ],
 "metadata": {
  "kernelspec": {
   "display_name": "Python 3",
   "language": "python",
   "name": "python3"
  },
  "language_info": {
   "codemirror_mode": {
    "name": "ipython",
    "version": 3
   },
   "file_extension": ".py",
   "mimetype": "text/x-python",
   "name": "python",
   "nbconvert_exporter": "python",
   "pygments_lexer": "ipython3",
   "version": "3.6.4"
  }
 },
 "nbformat": 4,
 "nbformat_minor": 2
}
