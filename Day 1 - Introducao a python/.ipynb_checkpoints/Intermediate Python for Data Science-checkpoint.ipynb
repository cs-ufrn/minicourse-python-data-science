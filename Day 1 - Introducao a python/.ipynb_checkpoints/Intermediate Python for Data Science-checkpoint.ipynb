{
 "cells": [
  {
   "cell_type": "markdown",
   "metadata": {},
   "source": [
    "## 1. Enumerate\n",
    "\n",
    "There are many situations where we'll need to iterate over multiple lists in tandem, such as this one:\n",
    "\n",
    ">```python\n",
    "animals = [\"Dog\", \"Tiger\", \"SuperLion\", \"Cow\", \"Panda\"]\n",
    "viciousness = [1, 5, 10, 10, 1]\n",
    "for animal in animals:\n",
    "    print(\"Animal\")\n",
    "    print(animal)\n",
    "    print(\"Viciousness\")\n",
    "```\n",
    "\n",
    "In the example above, we have two lists. The second list describes the viciousness of the animals in the first list. A <span style=\"background-color: #F9EBEA; color:##C0392B\">Dog</span> has a viciousness level of <span style=\"background-color: #F9EBEA; color:##C0392B\">1</span>, and a SuperLion has a viciousness level of <span style=\"background-color: #F9EBEA; color:##C0392B\">10</span>. We want to retrieve the position of the item in animals the loop is currently on, so we can use it to look up the corresponding value in the <span style=\"background-color: #F9EBEA; color:##C0392B\">viciousness</span> list.\n",
    "\n",
    "Unfortunately, we can't just loop through <span style=\"background-color: #F9EBEA; color:##C0392B\">animals</span>, and then tap into the second list. Python has an [enumerate()](https://docs.python.org/3/library/functions.html#enumerate) function that can help us with this, though. The [enumerate()](https://docs.python.org/3/library/functions.html#enumerate) function allows us to have two variables in the body of a for loop -- an index, and the value.\n",
    "\n",
    ">```python\n",
    "animals = [\"Dog\", \"Tiger\", \"SuperLion\", \"Cow\", \"Panda\"]\n",
    "viciousness = [1, 5, 10, 10, 1]\n",
    "for i, animal in enumerate(animals):\n",
    "    print(\"Animal\")\n",
    "    print(animal)\n",
    "    print(\"Viciousness\")\n",
    "    print(viciousness[i])\n",
    "```"
   ]
  },
  {
   "cell_type": "code",
   "execution_count": null,
   "metadata": {},
   "outputs": [],
   "source": [
    "ships = [\"Andrea Doria\", \"Titanic\", \"Lusitania\"]\n",
    "cars = [\"Ford Edsel\", \"Ford Pinto\", \"Yugo\"]\n",
    "\n",
    "for i,item in enumerate(ships):\n",
    "    print(item)\n",
    "    print(cars[i])"
   ]
  },
  {
   "cell_type": "code",
   "execution_count": null,
   "metadata": {},
   "outputs": [],
   "source": [
    "#adding columns\n",
    "things = [[\"apple\", \"monkey\"], [\"orange\", \"dog\"], [\"banana\", \"cat\"]]\n",
    "trees = [\"cedar\", \"maple\", \"fig\"]\n",
    "\n",
    "for i, item in enumerate(things):\n",
    "    item.append(trees[i])\n",
    "    \n",
    "print(things)"
   ]
  },
  {
   "cell_type": "markdown",
   "metadata": {},
   "source": [
    "## 2. List Comprehensions\n",
    "\n",
    "We've written many short for loops to manipulate lists. Here's an example:\n",
    "\n",
    ">```python\n",
    "animals = [\"Dog\", \"Tiger\", \"SuperLion\", \"Cow\", \"Panda\"]\n",
    "animal_lengths = []\n",
    "for animal in animals:\n",
    "    animal_lengths.append(len(animal))\n",
    "```\n",
    "\n",
    "It takes three lines to calculate the length of each string <span style=\"background-color: #F9EBEA; color:##C0392B\">animals</span> this way. However, we can condense this down to one line with a list comprehension:\n",
    "\n",
    ">```python\n",
    "animal_lengths = [len(animal) for animal in animals]\n",
    "```\n",
    "\n",
    "List comprehensions are much more compact notation, and can save space when you need to write multiple for loops.\n",
    "\n",
    "<br>\n",
    "<div class=\"alert alert-info\">\n",
    "<b>Exercise Start.</b>\n",
    "</div>\n",
    "\n",
    "**Description**: \n",
    "\n",
    "1. Use list comprehension to create a new list called <span style=\"background-color: #F9EBEA; color:##C0392B\">apple_prices_doubled</span>, where you multiply each item in <span style=\"background-color: #F9EBEA; color:##C0392B\">apple_prices</span> by <span style=\"background-color: #F9EBEA; color:##C0392B\">2</span>.\n",
    "2. Use list comprehension to create a new list called <span style=\"background-color: #F9EBEA; color:##C0392B\">apple_prices_lowered</span>, where you subtract <span style=\"background-color: #F9EBEA; color:##C0392B\">100</span> from each item in <span style=\"background-color: #F9EBEA; color:##C0392B\">apple_prices</span>.\n",
    "\n",
    ">```python\n",
    "apple_prices = [100, 101, 102, 105]\n",
    "```"
   ]
  },
  {
   "cell_type": "markdown",
   "metadata": {},
   "source": [
    "## 3. Numpy\n",
    "\n",
    "In the previous notebooks, we used nested lists in Python to represent datasets. Python lists offer a few advantages when representing data:\n",
    "\n",
    "- lists can contain mixed types\n",
    "- lists can shrink and grow dynamically\n",
    "\n",
    "Using Python lists to represent and work with data also has a few key disadvantages:\n",
    "\n",
    "- to support their flexibility, lists tend to consume lots of memory\n",
    "- they struggle to work with medium and larger sized datasets\n",
    "\n",
    "While there are many different ways to classify programming languages, an important way that keeps performance in mind is the difference between **low-level** and **high-level** languages. Python is a high-level programming language that allows us to quickly write, prototype, and test our logic. The C programming language, on the other hand, is a low-level programming language that is highly performant but has a much slower human workflow.\n",
    "\n",
    "<span style=\"background-color: #F9EBEA; color:##C0392B\">NumPy</span> is a library that combines the flexibility and ease-of-use of Python with the speed of C. In this mission, we'll start by getting familiar with the core NumPy data structure and then build up to using NumPy to work with the dataset <span style=\"background-color: #F9EBEA; color:##C0392B\">world_alcohol.csv</span>, which contains data on how much alcohol is consumed per capita in each country.\n",
    "\n",
    "\n",
    "### 3.1 Creating Arrays\n",
    "\n",
    "The core data structure in NumPy is the <span style=\"background-color: #F9EBEA; color:##C0392B\">ndarray</span> object, which stands for **N-dimensional array**. An **array** is a collection of values, similar to a list. **N-dimensional** refers to the number of indices needed to select individual values from the object.\n",
    "\n",
    "<img width=\"500\" alt=\"creating a repo\" src=\"https://drive.google.com/uc?export=view&id=0BxhVm1REqwr0X0VuT3NoZGZ0UlU\">\n",
    "\n",
    "A **1-dimensional** array is often referred to as a vector while a **2-dimensional** array is often referred to as a **matrix**. Both of these terms are both borrowed from a branch of mathematics called linear algebra. They're also often used in data science literature, so we'll use these words throughout this course.\n",
    "\n",
    "To use <span style=\"background-color: #F9EBEA; color:##C0392B\">NumPy</span>, we first need to import it into our environment. NumPy is commonly imported using the alias <span style=\"background-color: #F9EBEA; color:##C0392B\">np</span>:\n",
    "\n",
    ">```python\n",
    "import numpy as np\n",
    "```\n",
    "\n",
    "We can directly construct arrays from lists using the <span style=\"background-color: #F9EBEA; color:##C0392B\">numpy.array()</span> function. To construct a vector, we need to pass in a single list (with no nesting):\n",
    "\n",
    ">```python\n",
    "matrix = np.array([[5, 10, 15], [20, 25, 30], [35, 40, 45]])\n",
    "```"
   ]
  },
  {
   "cell_type": "code",
   "execution_count": null,
   "metadata": {},
   "outputs": [],
   "source": [
    "import numpy as np\n",
    "\n",
    "vector = np.array([10, 20, 30])\n",
    "matrix = np.array([[5, 10, 15], [20, 25, 30], [35, 40, 45]])\n",
    "\n",
    "print(vector[0])\n",
    "print(matrix[0])\n",
    "print(matrix[0][1])"
   ]
  },
  {
   "cell_type": "markdown",
   "metadata": {},
   "source": [
    "### 3.2 Array shape\n",
    "\n",
    "It's often useful to know how many elements an array contains. We can use the [ndarray.shape](http://docs.scipy.org/doc/numpy-1.10.1/reference/generated/numpy.ndarray.shape.html) property to figure out how many elements are in the array.\n",
    "\n"
   ]
  },
  {
   "cell_type": "code",
   "execution_count": null,
   "metadata": {},
   "outputs": [],
   "source": [
    "vector = np.array([1, 2, 3, 4])\n",
    "print(vector.shape)\n",
    "\n",
    "matrix = np.array([[5, 10, 15], [20, 25, 30]])\n",
    "print(matrix.shape)"
   ]
  },
  {
   "cell_type": "markdown",
   "metadata": {},
   "source": [
    "### 3.3 Using numpy\n",
    "\n",
    "We can read in datasets using the [numpy.genfromtxt()](http://docs.scipy.org/doc/numpy-1.10.0/reference/generated/numpy.genfromtxt.html) function. Our dataset, <span style=\"background-color: #F9EBEA; color:##C0392B\">world_alcohol.csv</span> is a comma separated value dataset. We can specify the delimiter using the delimiter parameter:\n",
    "\n",
    ">```python\n",
    "import numpy\n",
    "data = numpy.genfromtxt(\"data.csv\", delimiter=\",\")\n",
    "```\n",
    "\n",
    "**\"world_alcohol.csv'**\n",
    "\n",
    "Here's what each column represents:\n",
    "\n",
    "- Year -- the year the data in the row is for.\n",
    "- WHO Region -- the region in which the country is located.\n",
    "- Country -- the country the data is for.\n",
    "- Beverage Types -- the type of beverage the data is for.\n",
    "- Display Value -- the number of liters, on average, of the beverage type a citizen of the country drank in the given year.\n",
    "\n"
   ]
  },
  {
   "cell_type": "code",
   "execution_count": null,
   "metadata": {},
   "outputs": [],
   "source": [
    "import numpy as np\n",
    "world_alcohol = np.genfromtxt(\"data/world_alcohol.csv\", delimiter=',')\n",
    "print(type(world_alcohol))"
   ]
  },
  {
   "cell_type": "markdown",
   "metadata": {},
   "source": [
    "Each value in a NumPy array has to have the same data type. NumPy data types are similar to Python data types, but have slight differences. You can find a full list of NumPy data types [here](http://docs.scipy.org/doc/numpy-1.10.1/user/basics.types.html). "
   ]
  },
  {
   "cell_type": "code",
   "execution_count": null,
   "metadata": {},
   "outputs": [],
   "source": [
    "print(world_alcohol.dtype)"
   ]
  },
  {
   "cell_type": "markdown",
   "metadata": {},
   "source": [
    "### 3.4 Inspecting the data\n",
    "\n",
    "Here's how NumPy represents the first few rows of the dataset:\n",
    "\n",
    ">```python\n",
    "array([[             nan,              nan,              nan,              nan,              nan],\n",
    "       [  1.98600000e+03,              nan,              nan,              nan,   0.00000000e+00],\n",
    "       [  1.98600000e+03,              nan,              nan,              nan,   5.00000000e-01]])\n",
    "```"
   ]
  },
  {
   "cell_type": "code",
   "execution_count": null,
   "metadata": {},
   "outputs": [],
   "source": [
    "world_alcohol"
   ]
  },
  {
   "cell_type": "markdown",
   "metadata": {},
   "source": [
    "There are a few concepts we haven't been introduced to yet that we'll dive into into:\n",
    "\n",
    "- Many items in <span style=\"background-color: #F9EBEA; color:##C0392B\">world_alcohol</span> are <span style=\"background-color: #F9EBEA; color:##C0392B\">nan</span>, including the entire first row. <span style=\"background-color: #F9EBEA; color:##C0392B\">nan</span>, which stands for **\"not a number\"**, is a data type used to represent missing values.\n",
    "- Some of the numbers are written like <span style=\"background-color: #F9EBEA; color:##C0392B\">1.98600000e+03</span>.\n",
    "\n",
    "The data type of <span style=\"background-color: #F9EBEA; color:##C0392B\">world_alcohol</span> is float. Because all of the values in a **NumPy array have to have the same data type**, NumPy attempted to convert all of the columns to floats when they were read in. The <span style=\"background-color: #F9EBEA; color:##C0392B\">numpy.genfromtxt()</span> function will attempt to guess the correct data type of the array it creates.\n",
    "\n",
    "In this case, the **WHO Region**, **Country**, and **Beverage Types** columns are actually <span style=\"background-color: #F9EBEA; color:##C0392B\">strings</span>, and couldn't be converted to <span style=\"background-color: #F9EBEA; color:##C0392B\">floats</span>. When NumPy can't convert a value to a numeric data type like float or integer, it uses a special nan value that stands for **\"not a number\"**. NumPy assigns an na value, which stands for \"not available\", when the value doesn't exist. <span style=\"background-color: #F9EBEA; color:##C0392B\">nan</span> and <span style=\"background-color: #F9EBEA; color:##C0392B\">na</span> values are types of missing data. We'll dive more into how to deal with missing data in later missions.\n",
    "\n",
    "The whole first row of <span style=\"background-color: #F9EBEA; color:##C0392B\">world_alcohol.csv</span> is a header row that contains the names of each column. This is not actually part of the data, and consists entirely of strings. Since the strings couldn't be converted to floats properly, NumPy uses nan values to represent them.\n",
    "\n",
    "### 3.5 Reading the data correctly\n",
    "\n",
    "When reading in the data using the [numpy.genfromtxt()](http://docs.scipy.org/doc/numpy-1.10.0/reference/generated/numpy.genfromtxt.html) function, we can use parameters to customize how we want the data to be read in. While we're at it, we can also specify that we want to skip the header row of <span style=\"background-color: #F9EBEA; color:##C0392B\">world_alcohol.csv</span>.\n",
    "\n",
    "To specify the data type for the entire NumPy array, we use the keyword argument dtype and set it to <span style=\"background-color: #F9EBEA; color:##C0392B\">\"U75\"</span>. This specifies that we want to read in each value as a 75 byte unicode data type. We'll dive more into unicode and bytes later on, but for now, it's enough to know that this will read in our data properly.\n",
    "\n",
    "To skip the header when reading in the data, we use the skip_header parameter. The <span style=\"background-color: #F9EBEA; color:##C0392B\">skip_header</span>skip_header parameter accepts an integer value, specifying the number of lines from the top of the file we want NumPy to ignore.\n"
   ]
  },
  {
   "cell_type": "code",
   "execution_count": null,
   "metadata": {},
   "outputs": [],
   "source": [
    "world_alcohol = np.genfromtxt(\"data/world_alcohol.csv\", delimiter=\",\", dtype=\"U75\", skip_header=1)\n",
    "print(world_alcohol)"
   ]
  },
  {
   "cell_type": "code",
   "execution_count": null,
   "metadata": {},
   "outputs": [],
   "source": [
    "#slicing\n",
    "print(world_alcohol[1,:])\n",
    "print(world_alcohol[1,0:2])"
   ]
  },
  {
   "cell_type": "markdown",
   "metadata": {},
   "source": [
    "### 3.5 Array Comparisons\n",
    "\n",
    "One of the most powerful aspects of the NumPy module is the ability to make comparisons across an entire array. These comparisons result in Boolean values.\n",
    "\n",
    "\n"
   ]
  },
  {
   "cell_type": "code",
   "execution_count": null,
   "metadata": {},
   "outputs": [],
   "source": [
    "vector = np.array([5, 10, 15, 20])\n",
    "vector == 10"
   ]
  },
  {
   "cell_type": "code",
   "execution_count": null,
   "metadata": {},
   "outputs": [],
   "source": [
    "matrix = np.array([[5, 10, 15], \n",
    "                   [20, 25, 30],\n",
    "                   [35, 40, 45]]\n",
    "                 )\n",
    "matrix == 25"
   ]
  },
  {
   "cell_type": "markdown",
   "metadata": {},
   "source": [
    "### 3.6 Selecting elements\n",
    "\n",
    "We mentioned that comparisons are very powerful, but it may not have been obvious why on the last screen. Comparisons give us the power to select elements in arrays using Boolean vectors. This allows us to conditionally select certain elements in vectors, or certain rows in matrices.\n",
    "\n"
   ]
  },
  {
   "cell_type": "code",
   "execution_count": null,
   "metadata": {},
   "outputs": [],
   "source": [
    "vector = np.array([5, 10, 15, 20])\n",
    "equal_to_ten = (vector == 10)\n",
    "\n",
    "print(vector[equal_to_ten])"
   ]
  },
  {
   "cell_type": "code",
   "execution_count": null,
   "metadata": {},
   "outputs": [],
   "source": [
    "vector = np.array([5, 10, 15, 20])\n",
    "equal_to_ten_and_five = (vector == 10) | (vector == 5)\n",
    "\n",
    "print(equal_to_ten_and_five)"
   ]
  },
  {
   "cell_type": "code",
   "execution_count": null,
   "metadata": {},
   "outputs": [],
   "source": [
    "vector = np.array([5, 10, 15, 20])\n",
    "equal_to_ten_or_five = (vector == 10) | (vector == 5)\n",
    "vector[equal_to_ten_or_five] = 50\n",
    "print(vector)"
   ]
  },
  {
   "cell_type": "markdown",
   "metadata": {},
   "source": [
    "### 3.7 Computing with NumPy\n",
    "\n",
    "Now that alcohol_consumption consists of numeric values, we can perform computations on it. NumPy has a few built-in methods that operate on arrays. You can view all of them in the documentation. For now, here are a few important ones:\n",
    "\n",
    "- sum() -- Computes the sum of all the elements in a vector, or the sum along a dimension in a matrix\n",
    "- mean() -- Computes the average of all the elements in a vector, or the average along a dimension in a matrix\n",
    "- max() -- Identifies the maximum value among all the elements in a vector, or the maximum along a dimension in a matrix\n",
    "\n",
    "Here's an example of how we'd use one of these methods on a vector:"
   ]
  },
  {
   "cell_type": "code",
   "execution_count": null,
   "metadata": {},
   "outputs": [],
   "source": [
    "vector = np.array([5, 10, 15, 20])\n",
    "vector.sum()"
   ]
  },
  {
   "cell_type": "markdown",
   "metadata": {},
   "source": [
    "With a matrix, we have to specify an additional keyword argument, axis. The axis dictates which dimension we perform the operation on. 1 means that we want to perform the operation on each row, and 0 means on each column. The example below performs an operation across each row:\n",
    "\n",
    "\n"
   ]
  },
  {
   "cell_type": "code",
   "execution_count": null,
   "metadata": {},
   "outputs": [],
   "source": [
    "matrix = np.array([\n",
    "                [5, 10, 15], \n",
    "                [20, 25, 30],\n",
    "                [35, 40, 45]\n",
    "             ])\n",
    "matrix.sum(axis=1)"
   ]
  },
  {
   "cell_type": "markdown",
   "metadata": {},
   "source": [
    "### 3.8 NumPy Strengths And Weaknesses\n",
    "You should now have a good foundation in NumPy, and in handling issues with your data. NumPy is much easier to work with than lists of lists, because:\n",
    "\n",
    "- It's easy to perform computations on data.\n",
    "- Data indexing and slicing is faster and easier.\n",
    "- We can convert data types quickly.\n",
    "Overall, NumPy makes working with data in Python much more efficient. It's widely used for this reason, especially for machine learning.\n",
    "\n",
    "You may have noticed some limitations with NumPy as you worked through the past two missions, though. For example:\n",
    "\n",
    "- All of the items in an array must have the same data type. For many datasets, this can make arrays cumbersome to work with.\n",
    "- Columns and rows must be referred to by number, which gets confusing when you go back and forth from column name to column number.\n",
    "- In the next few missions, we'll learn about the Pandas library, one of the most popular data analysis libraries. Pandas builds on NumPy, but does a better job addressing the limitations of NumPy.\n",
    "\n"
   ]
  },
  {
   "cell_type": "code",
   "execution_count": null,
   "metadata": {},
   "outputs": [],
   "source": []
  },
  {
   "cell_type": "code",
   "execution_count": null,
   "metadata": {},
   "outputs": [],
   "source": []
  }
 ],
 "metadata": {
  "kernelspec": {
   "display_name": "Python 3",
   "language": "python",
   "name": "python3"
  },
  "language_info": {
   "codemirror_mode": {
    "name": "ipython",
    "version": 3
   },
   "file_extension": ".py",
   "mimetype": "text/x-python",
   "name": "python",
   "nbconvert_exporter": "python",
   "pygments_lexer": "ipython3",
   "version": "3.6.5"
  }
 },
 "nbformat": 4,
 "nbformat_minor": 2
}
